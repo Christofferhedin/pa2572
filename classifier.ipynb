{
 "cells": [
  {
   "cell_type": "markdown",
   "metadata": {},
   "source": [
    "# Airbnb review sentiment analysis\n",
    "This notebook demonstrates how to build a deep learning model to analyze sentiments of Airbnb reviews."
   ]
  },
  {
   "cell_type": "code",
   "execution_count": 85,
   "id": "75f93527",
   "metadata": {},
   "outputs": [],
   "source": [
    "import tensorflow as tf\n",
    "import pandas as pd\n",
    "import re\n",
    "from langdetect import detect\n",
    "from sklearn.model_selection import train_test_split\n",
    "from sklearn.metrics import classification_report\n",
    "import numpy as np\n",
    "import matplotlib.pyplot as plt"
   ]
  },
  {
   "cell_type": "markdown",
   "id": "616a121d",
   "metadata": {},
   "source": [
    "## Librarys used and what there purpose is\n",
    "- Tensorflow\n",
    "    - Is used to build, and train our sequential nerual network for sentiment analysis, handels text vectorization that converts text into numerical data.\n",
    "- Pandas\n",
    "    - Is used to load the dataset and create the dataframe, also allows us to filter and create sampling dataset.\n",
    "- langdetect\n",
    "    - Used for detecting english reviews.\n",
    "- numpy\n",
    "    - Helps us to create the necessary np array for training.\n",
    "-  sklearn\n",
    "    - Used to split the data into training and test sets, and get a detailed classification report. \n",
    "-  re\n",
    "    - Used for text cleaning, such as remove the html tags from the reviews.\n",
    "-  matplotlib\n",
    "    - Used to plot and illustrate the result of the training and model loss"
   ]
  },
  {
   "cell_type": "code",
   "execution_count": null,
   "id": "311dc6a2",
   "metadata": {},
   "outputs": [
    {
     "name": "stdout",
     "output_type": "stream",
     "text": [
      "loading airbnb reviews dataset...\n",
      "Orginal dataset\n",
      "                  listing_id                   id        date  reviewer_id  \\\n",
      "0                    164448               407660  2011-07-30       870312   \n",
      "1                    164448               451097  2011-08-16       901633   \n",
      "2                    164448               472271  2011-08-24       894674   \n",
      "3                    164448               521708  2011-09-11       232485   \n",
      "4                    164448               568347  2011-09-26       896712   \n",
      "...                     ...                  ...         ...          ...   \n",
      "144943  1305729897949100039  1317299844322463966  2024-12-22    666963478   \n",
      "144944  1306393577432561110  1315873156254706149  2024-12-20    442177472   \n",
      "144945  1310885179474906446  1316587888366107935  2024-12-21     53058534   \n",
      "144946  1312171107579620356  1320280905319488958  2024-12-26    595482193   \n",
      "144947  1316786620019656619  1322401494741586698  2024-12-29    135251598   \n",
      "\n",
      "       reviewer_name                                           comments  \n",
      "0               Fred  great fun at lidia's. she had the power adapte...  \n",
      "1             Julien  Great centrally located room, very nice facili...  \n",
      "2            Liliana  Lidia is a very nice person. Very good plase t...  \n",
      "3               Ravi  Great host, although we were late in our arriv...  \n",
      "4               Ruud  Good location (for us), the bed was good and t...  \n",
      "...              ...                                                ...  \n",
      "144943        Jurgen  mooi appartement op de perfecte ligging in de ...  \n",
      "144944          Alex  Had a great stay at Jairo’s flat! The room its...  \n",
      "144945        Danish  Tunnelbanan går precis utanför, så det är enke...  \n",
      "144946       Abdulla  lägenheten är inte renoverad på väldigt lång t...  \n",
      "144947          Olle  Fantastisk värd, perfekt läge på boendet! Läge...  \n",
      "\n",
      "[144948 rows x 6 columns]\n"
     ]
    }
   ],
   "source": [
    "# load the dataset\n",
    "print(\"loading airbnb reviews dataset...\")\n",
    "df = pd.read_csv(\"reviews.csv\")\n",
    "print(f\"Orginal dataset\\n {df}\")"
   ]
  },
  {
   "cell_type": "markdown",
   "metadata": {},
   "source": [
    "# Data cleaning"
   ]
  },
  {
   "cell_type": "code",
   "execution_count": 87,
   "id": "c5e85c25",
   "metadata": {},
   "outputs": [],
   "source": [
    "# Clean html tags\n",
    "def clean_html(text):\n",
    "    if isinstance(text, str):\n",
    "        return re.sub(r\"<.*?>\", \"\", text)\n",
    "    return text"
   ]
  },
  {
   "cell_type": "code",
   "execution_count": 88,
   "id": "ac487225",
   "metadata": {},
   "outputs": [
    {
     "name": "stdout",
     "output_type": "stream",
     "text": [
      "After remoing empty comments\n",
      "                  listing_id                   id        date  reviewer_id  \\\n",
      "0                    164448               407660  2011-07-30       870312   \n",
      "1                    164448               451097  2011-08-16       901633   \n",
      "2                    164448               472271  2011-08-24       894674   \n",
      "3                    164448               521708  2011-09-11       232485   \n",
      "4                    164448               568347  2011-09-26       896712   \n",
      "...                     ...                  ...         ...          ...   \n",
      "144943  1305729897949100039  1317299844322463966  2024-12-22    666963478   \n",
      "144944  1306393577432561110  1315873156254706149  2024-12-20    442177472   \n",
      "144945  1310885179474906446  1316587888366107935  2024-12-21     53058534   \n",
      "144946  1312171107579620356  1320280905319488958  2024-12-26    595482193   \n",
      "144947  1316786620019656619  1322401494741586698  2024-12-29    135251598   \n",
      "\n",
      "       reviewer_name                                           comments  \n",
      "0               Fred  great fun at lidia's. she had the power adapte...  \n",
      "1             Julien  Great centrally located room, very nice facili...  \n",
      "2            Liliana  Lidia is a very nice person. Very good plase t...  \n",
      "3               Ravi  Great host, although we were late in our arriv...  \n",
      "4               Ruud  Good location (for us), the bed was good and t...  \n",
      "...              ...                                                ...  \n",
      "144943        Jurgen  mooi appartement op de perfecte ligging in de ...  \n",
      "144944          Alex  Had a great stay at Jairo’s flat! The room its...  \n",
      "144945        Danish  Tunnelbanan går precis utanför, så det är enke...  \n",
      "144946       Abdulla  lägenheten är inte renoverad på väldigt lång t...  \n",
      "144947          Olle  Fantastisk värd, perfekt läge på boendet! Läge...  \n",
      "\n",
      "[144934 rows x 6 columns]\n"
     ]
    }
   ],
   "source": [
    "# Remove the empty comments rows\n",
    "df = df.dropna(subset=[\"comments\"])\n",
    "df[\"comments\"] = df[\"comments\"].apply(clean_html)\n",
    "print(f\"After remoing empty comments\\n {df}\")"
   ]
  },
  {
   "cell_type": "code",
   "execution_count": 89,
   "id": "76802794",
   "metadata": {},
   "outputs": [
    {
     "name": "stdout",
     "output_type": "stream",
     "text": [
      "After removing non-english comments\n",
      "                  listing_id                   id        date  reviewer_id  \\\n",
      "0                    164448               407660  2011-07-30       870312   \n",
      "1                    164448               451097  2011-08-16       901633   \n",
      "2                    164448               472271  2011-08-24       894674   \n",
      "3                    164448               521708  2011-09-11       232485   \n",
      "4                    164448               568347  2011-09-26       896712   \n",
      "...                     ...                  ...         ...          ...   \n",
      "144935  1298347645930946959  1307248295819579395  2024-12-08    479920506   \n",
      "144938  1301950247646962698  1316668854181848371  2024-12-21     34223838   \n",
      "144940  1302247401950369176  1307146471377559196  2024-12-08      1922353   \n",
      "144942  1304284803854492401  1307949554237811713  2024-12-09     86342696   \n",
      "144944  1306393577432561110  1315873156254706149  2024-12-20    442177472   \n",
      "\n",
      "       reviewer_name                                           comments  \\\n",
      "0               Fred  great fun at lidia's. she had the power adapte...   \n",
      "1             Julien  Great centrally located room, very nice facili...   \n",
      "2            Liliana  Lidia is a very nice person. Very good plase t...   \n",
      "3               Ravi  Great host, although we were late in our arriv...   \n",
      "4               Ruud  Good location (for us), the bed was good and t...   \n",
      "...              ...                                                ...   \n",
      "144935      Mercedes  Oskar was great with his communication and alw...   \n",
      "144938          Lars  Erica’s apartment was perfect for us. It has e...   \n",
      "144940       Ernesto                     Super cozy place in Södermalm.   \n",
      "144942         Tessa  A really lovely apartment with lots of charact...   \n",
      "144944          Alex  Had a great stay at Jairo’s flat! The room its...   \n",
      "\n",
      "        is_english  \n",
      "0             True  \n",
      "1             True  \n",
      "2             True  \n",
      "3             True  \n",
      "4             True  \n",
      "...            ...  \n",
      "144935        True  \n",
      "144938        True  \n",
      "144940        True  \n",
      "144942        True  \n",
      "144944        True  \n",
      "\n",
      "[99686 rows x 7 columns]\n"
     ]
    }
   ],
   "source": [
    "# Filter out the rows that isn't in English\n",
    "def is_english(text):\n",
    "    try:\n",
    "        return detect(text) == \"en\"\n",
    "    except:\n",
    "        return False\n",
    "    \n",
    "df[\"is_english\"] = df[\"comments\"].apply(is_english)\n",
    "df = df[df[\"is_english\"]]\n",
    "print(f\"After removing non-english comments\\n {df}\")"
   ]
  },
  {
   "cell_type": "markdown",
   "metadata": {},
   "source": [
    "# Simple sentiment analysis\n",
    "Creating initial sentiment labels using a word based approach"
   ]
  },
  {
   "cell_type": "code",
   "execution_count": 90,
   "id": "517a246f",
   "metadata": {},
   "outputs": [],
   "source": [
    "positive_words = [\n",
    "    \"great\", \"good\", \"nice\", \"excellent\", \"perfect\", \"happy\", \"wonderful\", \n",
    "    \"fantastic\", \"amazing\", \"love\", \"best\", \"beautiful\", \"clean\", \"comfortable\",\n",
    "    \"helpful\", \"recommend\", \"enjoyed\", \"pleasant\", \"delightful\", \"convenient\",\n",
    "    \"friendly\", \"impressed\", \"satisfied\", \"superb\", \"lovely\", \"exceptional\",\n",
    "    \"outstanding\", \"brilliant\", \"spotless\", \"spacious\", \"convenient\", \"ideal\",\n",
    "    \"charming\", \"cozy\", \"luxurious\", \"modern\", \"stylish\", \"relaxing\", \"peaceful\"\n",
    "]\n",
    "\n",
    "negative_words = [\n",
    "    \"bad\", \"poor\", \"terrible\", \"horrible\", \"awful\", \"worst\", \"dirty\", \n",
    "    \"disappointing\", \"disappointment\", \"uncomfortable\", \"problem\", \"not clean\", \"broken\",\n",
    "    \"issue\", \"issues\", \"annoying\", \"noisy\", \"small\", \"expensive\", \"overpriced\",\n",
    "    \"rude\", \"unpleasant\", \"unhelpful\", \"disgusting\", \"outdated\", \"smelly\",\n",
    "    \"misleading\", \"stained\", \"cramped\", \"cold\", \"hot\", \"bugs\", \"cockroaches\",\n",
    "    \"musty\", \"mold\", \"mildew\", \"rundown\", \"unsafe\", \"sketchy\", \"dusty\"\n",
    "]"
   ]
  },
  {
   "cell_type": "code",
   "execution_count": 91,
   "id": "0368d890",
   "metadata": {},
   "outputs": [],
   "source": [
    "def simple_sentiment(text):\n",
    "    if not isinstance(text, str):\n",
    "        return 1\n",
    "    \n",
    "    text = text.lower()\n",
    "    pos_count = sum(1 for word in positive_words if word in text)\n",
    "    neg_count = sum(1 for word in negative_words if word in text)\n",
    "\n",
    "    negations = [\"not\", \"isn't\", \"aren't\", \"wasn't\", \"weren't\", \"don't\", \"doesn't\", \n",
    "                \"didn't\", \"can't\", \"couldn't\", \"shouldn't\", \"wouldn't\", \"no\", \"never\"]\n",
    "    # Example: The floor was not dirty.\n",
    "    for neg in negations:\n",
    "        neg_pattern = f\"{neg}\"\n",
    "        if neg_pattern in text:\n",
    "            for i, word in enumerate(positive_words):\n",
    "                if f\"{neg} {word}\" in text:\n",
    "                    pos_count -= 1\n",
    "                    neg_count += 1\n",
    "\n",
    "    if neg_count > pos_count * 0.7:\n",
    "        return \"NEGATIVE\" \n",
    "    else:\n",
    "        return \"POSITIVE\""
   ]
  },
  {
   "cell_type": "code",
   "execution_count": 92,
   "id": "a2f8847f",
   "metadata": {},
   "outputs": [],
   "source": [
    "# create simple labels\n",
    "df[\"sentiment_label\"] = df[\"comments\"].apply(simple_sentiment)"
   ]
  },
  {
   "cell_type": "code",
   "execution_count": 93,
   "id": "6c74a1e7",
   "metadata": {},
   "outputs": [
    {
     "name": "stdout",
     "output_type": "stream",
     "text": [
      "\n",
      "Initial sentiment distribution:\n",
      "sentiment_label\n",
      "POSITIVE    95920\n",
      "NEGATIVE     3766\n",
      "Name: count, dtype: int64\n",
      "Positive percentage: 3.78%\n"
     ]
    },
    {
     "name": "stderr",
     "output_type": "stream",
     "text": [
      "/tmp/ipykernel_1803/2134060337.py:5: FutureWarning: Series.__getitem__ treating keys as positions is deprecated. In a future version, integer keys will always be treated as labels (consistent with DataFrame behavior). To access a value by position, use `ser.iloc[pos]`\n",
      "  print(f\"Positive percentage: {label_counts[1]/len(df)*100:.2f}%\")\n"
     ]
    }
   ],
   "source": [
    "# Print distribution of initial labels\n",
    "print(\"\\nInitial sentiment distribution:\")\n",
    "label_counts = df[\"sentiment_label\"].value_counts()\n",
    "print(label_counts)\n",
    "print(f\"Positive percentage: {label_counts[1]/len(df)*100:.2f}%\")"
   ]
  },
  {
   "cell_type": "markdown",
   "metadata": {},
   "source": [
    "# Handle class imbalance\n",
    "Balancing the dataset to improve model training:"
   ]
  },
  {
   "cell_type": "code",
   "execution_count": 94,
   "id": "d534fe2e",
   "metadata": {},
   "outputs": [],
   "source": [
    "#Convert sentiment labels to numeric values\n",
    "df[\"sentiment_numeric\"] = df[\"sentiment_label\"].map({\"POSITIVE\": 1, \"NEGATIVE\": 0})"
   ]
  },
  {
   "cell_type": "code",
   "execution_count": 95,
   "id": "3751ccb9",
   "metadata": {},
   "outputs": [],
   "source": [
    "# Handle class imbalance\n",
    "positive_samples = df[df[\"sentiment_numeric\"] == 1]\n",
    "negative_samples = df[df[\"sentiment_numeric\"] == 0]"
   ]
  },
  {
   "cell_type": "code",
   "execution_count": 96,
   "id": "62ea1ae0",
   "metadata": {},
   "outputs": [
    {
     "name": "stdout",
     "output_type": "stream",
     "text": [
      "\n",
      "Balanced dataset shape: (15064, 9)\n",
      "Balanced sentiment distribution:\n",
      "sentiment_label\n",
      "POSITIVE    11298\n",
      "NEGATIVE     3766\n",
      "Name: count, dtype: int64\n"
     ]
    }
   ],
   "source": [
    "# get some number of positive samples as negative samples\n",
    "positive_down_sampled = positive_samples.sample(n=len(negative_samples) * 3, random_state=42)\n",
    "balanced_df = pd.concat([positive_down_sampled, negative_samples])\n",
    "\n",
    "print(f\"\\nBalanced dataset shape: {balanced_df.shape}\")\n",
    "print(\"Balanced sentiment distribution:\")\n",
    "print(balanced_df['sentiment_label'].value_counts())"
   ]
  },
  {
   "cell_type": "markdown",
   "metadata": {},
   "source": [
    "# Split the data\n",
    "Creating training and testing datasets:"
   ]
  },
  {
   "cell_type": "code",
   "execution_count": 97,
   "id": "eadb180d",
   "metadata": {},
   "outputs": [
    {
     "name": "stdout",
     "output_type": "stream",
     "text": [
      "Training set size: 12051\n",
      "Test set size: 3013\n"
     ]
    }
   ],
   "source": [
    "# split the data into training and testing sets\n",
    "x_train, x_test, y_train, y_test = train_test_split(\n",
    "    balanced_df[\"comments\"],\n",
    "    balanced_df[\"sentiment_numeric\"],\n",
    "    test_size=0.2,\n",
    "    stratify=balanced_df[\"sentiment_numeric\"],\n",
    "    random_state=42\n",
    ")\n",
    "\n",
    "print(f\"Training set size: {len(x_train)}\")\n",
    "print(f\"Test set size: {len(x_test)}\")"
   ]
  },
  {
   "cell_type": "markdown",
   "metadata": {},
   "source": [
    "# Text Preprocessing\n",
    "Creating a text vectorization layer:"
   ]
  },
  {
   "cell_type": "code",
   "execution_count": 98,
   "id": "4ba423d9",
   "metadata": {},
   "outputs": [],
   "source": [
    "#create a text vectorization layer\n",
    "max_features = 15000\n",
    "sequence_length = 300\n",
    "\n",
    "vectorize_layer = tf.keras.layers.TextVectorization(\n",
    "    standardize=\"lower_and_strip_punctuation\",\n",
    "    max_tokens=max_features,\n",
    "    output_mode=\"int\",\n",
    "    output_sequence_length=sequence_length\n",
    ")\n"
   ]
  },
  {
   "cell_type": "code",
   "execution_count": 99,
   "id": "0af52f4d",
   "metadata": {},
   "outputs": [],
   "source": [
    "vectorize_layer.adapt(x_train.values)"
   ]
  },
  {
   "cell_type": "markdown",
   "metadata": {},
   "source": [
    "# Build the model\n",
    "Creating a nerual network for sentiment classification:"
   ]
  },
  {
   "cell_type": "code",
   "execution_count": 100,
   "id": "fae5869f",
   "metadata": {},
   "outputs": [],
   "source": [
    "# build the model\n",
    "embedding_dim = 16\n",
    "\n",
    "model = tf.keras.Sequential([\n",
    "    vectorize_layer,\n",
    "    tf.keras.layers.Embedding(max_features + 1,embedding_dim),\n",
    "    tf.keras.layers.Dropout(0.2),\n",
    "    tf.keras.layers.GlobalAveragePooling1D(),\n",
    "    tf.keras.layers.Dropout(0.2),\n",
    "    tf.keras.layers.Dense(1, activation=\"sigmoid\")\n",
    "])"
   ]
  },
  {
   "cell_type": "code",
   "execution_count": 101,
   "id": "30bcabf2",
   "metadata": {},
   "outputs": [
    {
     "data": {
      "text/html": [
       "<pre style=\"white-space:pre;overflow-x:auto;line-height:normal;font-family:Menlo,'DejaVu Sans Mono',consolas,'Courier New',monospace\"><span style=\"font-weight: bold\">Model: \"sequential_6\"</span>\n",
       "</pre>\n"
      ],
      "text/plain": [
       "\u001b[1mModel: \"sequential_6\"\u001b[0m\n"
      ]
     },
     "metadata": {},
     "output_type": "display_data"
    },
    {
     "data": {
      "text/html": [
       "<pre style=\"white-space:pre;overflow-x:auto;line-height:normal;font-family:Menlo,'DejaVu Sans Mono',consolas,'Courier New',monospace\">┏━━━━━━━━━━━━━━━━━━━━━━━━━━━━━━━━━┳━━━━━━━━━━━━━━━━━━━━━━━━┳━━━━━━━━━━━━━━━┓\n",
       "┃<span style=\"font-weight: bold\"> Layer (type)                    </span>┃<span style=\"font-weight: bold\"> Output Shape           </span>┃<span style=\"font-weight: bold\">       Param # </span>┃\n",
       "┡━━━━━━━━━━━━━━━━━━━━━━━━━━━━━━━━━╇━━━━━━━━━━━━━━━━━━━━━━━━╇━━━━━━━━━━━━━━━┩\n",
       "│ text_vectorization_3            │ ?                      │   <span style=\"color: #00af00; text-decoration-color: #00af00\">0</span> (unbuilt) │\n",
       "│ (<span style=\"color: #0087ff; text-decoration-color: #0087ff\">TextVectorization</span>)             │                        │               │\n",
       "├─────────────────────────────────┼────────────────────────┼───────────────┤\n",
       "│ embedding_3 (<span style=\"color: #0087ff; text-decoration-color: #0087ff\">Embedding</span>)         │ ?                      │   <span style=\"color: #00af00; text-decoration-color: #00af00\">0</span> (unbuilt) │\n",
       "├─────────────────────────────────┼────────────────────────┼───────────────┤\n",
       "│ dropout_6 (<span style=\"color: #0087ff; text-decoration-color: #0087ff\">Dropout</span>)             │ ?                      │             <span style=\"color: #00af00; text-decoration-color: #00af00\">0</span> │\n",
       "├─────────────────────────────────┼────────────────────────┼───────────────┤\n",
       "│ global_average_pooling1d_3      │ ?                      │             <span style=\"color: #00af00; text-decoration-color: #00af00\">0</span> │\n",
       "│ (<span style=\"color: #0087ff; text-decoration-color: #0087ff\">GlobalAveragePooling1D</span>)        │                        │               │\n",
       "├─────────────────────────────────┼────────────────────────┼───────────────┤\n",
       "│ dropout_7 (<span style=\"color: #0087ff; text-decoration-color: #0087ff\">Dropout</span>)             │ ?                      │             <span style=\"color: #00af00; text-decoration-color: #00af00\">0</span> │\n",
       "├─────────────────────────────────┼────────────────────────┼───────────────┤\n",
       "│ dense_3 (<span style=\"color: #0087ff; text-decoration-color: #0087ff\">Dense</span>)                 │ ?                      │   <span style=\"color: #00af00; text-decoration-color: #00af00\">0</span> (unbuilt) │\n",
       "└─────────────────────────────────┴────────────────────────┴───────────────┘\n",
       "</pre>\n"
      ],
      "text/plain": [
       "┏━━━━━━━━━━━━━━━━━━━━━━━━━━━━━━━━━┳━━━━━━━━━━━━━━━━━━━━━━━━┳━━━━━━━━━━━━━━━┓\n",
       "┃\u001b[1m \u001b[0m\u001b[1mLayer (type)                   \u001b[0m\u001b[1m \u001b[0m┃\u001b[1m \u001b[0m\u001b[1mOutput Shape          \u001b[0m\u001b[1m \u001b[0m┃\u001b[1m \u001b[0m\u001b[1m      Param #\u001b[0m\u001b[1m \u001b[0m┃\n",
       "┡━━━━━━━━━━━━━━━━━━━━━━━━━━━━━━━━━╇━━━━━━━━━━━━━━━━━━━━━━━━╇━━━━━━━━━━━━━━━┩\n",
       "│ text_vectorization_3            │ ?                      │   \u001b[38;5;34m0\u001b[0m (unbuilt) │\n",
       "│ (\u001b[38;5;33mTextVectorization\u001b[0m)             │                        │               │\n",
       "├─────────────────────────────────┼────────────────────────┼───────────────┤\n",
       "│ embedding_3 (\u001b[38;5;33mEmbedding\u001b[0m)         │ ?                      │   \u001b[38;5;34m0\u001b[0m (unbuilt) │\n",
       "├─────────────────────────────────┼────────────────────────┼───────────────┤\n",
       "│ dropout_6 (\u001b[38;5;33mDropout\u001b[0m)             │ ?                      │             \u001b[38;5;34m0\u001b[0m │\n",
       "├─────────────────────────────────┼────────────────────────┼───────────────┤\n",
       "│ global_average_pooling1d_3      │ ?                      │             \u001b[38;5;34m0\u001b[0m │\n",
       "│ (\u001b[38;5;33mGlobalAveragePooling1D\u001b[0m)        │                        │               │\n",
       "├─────────────────────────────────┼────────────────────────┼───────────────┤\n",
       "│ dropout_7 (\u001b[38;5;33mDropout\u001b[0m)             │ ?                      │             \u001b[38;5;34m0\u001b[0m │\n",
       "├─────────────────────────────────┼────────────────────────┼───────────────┤\n",
       "│ dense_3 (\u001b[38;5;33mDense\u001b[0m)                 │ ?                      │   \u001b[38;5;34m0\u001b[0m (unbuilt) │\n",
       "└─────────────────────────────────┴────────────────────────┴───────────────┘\n"
      ]
     },
     "metadata": {},
     "output_type": "display_data"
    },
    {
     "data": {
      "text/html": [
       "<pre style=\"white-space:pre;overflow-x:auto;line-height:normal;font-family:Menlo,'DejaVu Sans Mono',consolas,'Courier New',monospace\"><span style=\"font-weight: bold\"> Total params: </span><span style=\"color: #00af00; text-decoration-color: #00af00\">0</span> (0.00 B)\n",
       "</pre>\n"
      ],
      "text/plain": [
       "\u001b[1m Total params: \u001b[0m\u001b[38;5;34m0\u001b[0m (0.00 B)\n"
      ]
     },
     "metadata": {},
     "output_type": "display_data"
    },
    {
     "data": {
      "text/html": [
       "<pre style=\"white-space:pre;overflow-x:auto;line-height:normal;font-family:Menlo,'DejaVu Sans Mono',consolas,'Courier New',monospace\"><span style=\"font-weight: bold\"> Trainable params: </span><span style=\"color: #00af00; text-decoration-color: #00af00\">0</span> (0.00 B)\n",
       "</pre>\n"
      ],
      "text/plain": [
       "\u001b[1m Trainable params: \u001b[0m\u001b[38;5;34m0\u001b[0m (0.00 B)\n"
      ]
     },
     "metadata": {},
     "output_type": "display_data"
    },
    {
     "data": {
      "text/html": [
       "<pre style=\"white-space:pre;overflow-x:auto;line-height:normal;font-family:Menlo,'DejaVu Sans Mono',consolas,'Courier New',monospace\"><span style=\"font-weight: bold\"> Non-trainable params: </span><span style=\"color: #00af00; text-decoration-color: #00af00\">0</span> (0.00 B)\n",
       "</pre>\n"
      ],
      "text/plain": [
       "\u001b[1m Non-trainable params: \u001b[0m\u001b[38;5;34m0\u001b[0m (0.00 B)\n"
      ]
     },
     "metadata": {},
     "output_type": "display_data"
    }
   ],
   "source": [
    "# compile the model\n",
    "model.compile(\n",
    "    loss=tf.keras.losses.BinaryCrossentropy(from_logits=False),\n",
    "    optimizer=\"adam\",\n",
    "    metrics=[\"accuracy\"]\n",
    ")\n",
    "model.summary()"
   ]
  },
  {
   "cell_type": "markdown",
   "metadata": {},
   "source": [
    "# Train the model\n",
    "Training the sentiment analysis model:"
   ]
  },
  {
   "cell_type": "code",
   "execution_count": 102,
   "id": "edc3fea0",
   "metadata": {},
   "outputs": [
    {
     "name": "stdout",
     "output_type": "stream",
     "text": [
      "object int64\n",
      "Epoch 1/10\n",
      "\u001b[1m302/302\u001b[0m \u001b[32m━━━━━━━━━━━━━━━━━━━━\u001b[0m\u001b[37m\u001b[0m \u001b[1m2s\u001b[0m 4ms/step - accuracy: 0.7377 - loss: 0.5528 - val_accuracy: 0.7652 - val_loss: 0.5233\n",
      "Epoch 2/10\n",
      "\u001b[1m302/302\u001b[0m \u001b[32m━━━━━━━━━━━━━━━━━━━━\u001b[0m\u001b[37m\u001b[0m \u001b[1m1s\u001b[0m 4ms/step - accuracy: 0.7569 - loss: 0.5256 - val_accuracy: 0.7719 - val_loss: 0.5095\n",
      "Epoch 3/10\n",
      "\u001b[1m302/302\u001b[0m \u001b[32m━━━━━━━━━━━━━━━━━━━━\u001b[0m\u001b[37m\u001b[0m \u001b[1m1s\u001b[0m 4ms/step - accuracy: 0.7582 - loss: 0.5264 - val_accuracy: 0.7781 - val_loss: 0.4958\n",
      "Epoch 4/10\n",
      "\u001b[1m302/302\u001b[0m \u001b[32m━━━━━━━━━━━━━━━━━━━━\u001b[0m\u001b[37m\u001b[0m \u001b[1m1s\u001b[0m 4ms/step - accuracy: 0.7783 - loss: 0.4960 - val_accuracy: 0.7818 - val_loss: 0.4868\n",
      "Epoch 5/10\n",
      "\u001b[1m302/302\u001b[0m \u001b[32m━━━━━━━━━━━━━━━━━━━━\u001b[0m\u001b[37m\u001b[0m \u001b[1m1s\u001b[0m 4ms/step - accuracy: 0.7749 - loss: 0.4933 - val_accuracy: 0.7881 - val_loss: 0.4672\n",
      "Epoch 6/10\n",
      "\u001b[1m302/302\u001b[0m \u001b[32m━━━━━━━━━━━━━━━━━━━━\u001b[0m\u001b[37m\u001b[0m \u001b[1m1s\u001b[0m 4ms/step - accuracy: 0.7909 - loss: 0.4681 - val_accuracy: 0.7926 - val_loss: 0.4501\n",
      "Epoch 7/10\n",
      "\u001b[1m302/302\u001b[0m \u001b[32m━━━━━━━━━━━━━━━━━━━━\u001b[0m\u001b[37m\u001b[0m \u001b[1m1s\u001b[0m 4ms/step - accuracy: 0.8013 - loss: 0.4403 - val_accuracy: 0.8067 - val_loss: 0.4384\n",
      "Epoch 8/10\n",
      "\u001b[1m302/302\u001b[0m \u001b[32m━━━━━━━━━━━━━━━━━━━━\u001b[0m\u001b[37m\u001b[0m \u001b[1m1s\u001b[0m 4ms/step - accuracy: 0.7997 - loss: 0.4336 - val_accuracy: 0.8092 - val_loss: 0.4154\n",
      "Epoch 9/10\n",
      "\u001b[1m302/302\u001b[0m \u001b[32m━━━━━━━━━━━━━━━━━━━━\u001b[0m\u001b[37m\u001b[0m \u001b[1m1s\u001b[0m 4ms/step - accuracy: 0.8122 - loss: 0.4140 - val_accuracy: 0.8254 - val_loss: 0.4074\n",
      "Epoch 10/10\n",
      "\u001b[1m302/302\u001b[0m \u001b[32m━━━━━━━━━━━━━━━━━━━━\u001b[0m\u001b[37m\u001b[0m \u001b[1m1s\u001b[0m 3ms/step - accuracy: 0.8255 - loss: 0.3923 - val_accuracy: 0.8171 - val_loss: 0.3862\n"
     ]
    }
   ],
   "source": [
    "# Train the model\n",
    "x_train = np.array(x_train)\n",
    "y_train = np.array(y_train)\n",
    "print(x_train.dtype, y_train.dtype)\n",
    "\n",
    "\n",
    "history = model.fit(\n",
    "    x_train,\n",
    "    y_train,\n",
    "    epochs=10,\n",
    "    batch_size=32,\n",
    "    validation_split=0.2,\n",
    "    verbose=1\n",
    ")"
   ]
  },
  {
   "cell_type": "markdown",
   "metadata": {},
   "source": [
    "# Evaluate the model\n",
    "Testing the models performance:"
   ]
  },
  {
   "cell_type": "code",
   "execution_count": 103,
   "id": "8e2ca9a3",
   "metadata": {},
   "outputs": [
    {
     "name": "stdout",
     "output_type": "stream",
     "text": [
      "\u001b[1m95/95\u001b[0m \u001b[32m━━━━━━━━━━━━━━━━━━━━\u001b[0m\u001b[37m\u001b[0m \u001b[1m0s\u001b[0m 1ms/step - accuracy: 0.8203 - loss: 0.3782\n",
      "Test accuracy: 0.8188\n"
     ]
    }
   ],
   "source": [
    "# eval model\n",
    "\n",
    "x_test = np.array(x_test.tolist()) if isinstance(x_test, np.ndarray) else np.array(x_test)\n",
    "y_test = np.array(y_test.tolist()) if isinstance(y_test, np.ndarray) else np.array(y_test)\n",
    "\n",
    "\n",
    "loss, accuracy = model.evaluate(x_test, y_test)\n",
    "print(f\"Test accuracy: {accuracy:.4f}\")"
   ]
  },
  {
   "cell_type": "markdown",
   "metadata": {},
   "source": [
    "# Analyze model performance\n",
    "Generating a classification report to understand model strengths and weaknessess:"
   ]
  },
  {
   "cell_type": "code",
   "execution_count": 104,
   "id": "496d52be",
   "metadata": {},
   "outputs": [
    {
     "name": "stdout",
     "output_type": "stream",
     "text": [
      "\u001b[1m95/95\u001b[0m \u001b[32m━━━━━━━━━━━━━━━━━━━━\u001b[0m\u001b[37m\u001b[0m \u001b[1m0s\u001b[0m 1ms/step\n"
     ]
    }
   ],
   "source": [
    "# predict and analyse\n",
    "predictions = model.predict(x_test)\n",
    "binary_predictions = (predictions > 0.5).astype(int)"
   ]
  },
  {
   "cell_type": "code",
   "execution_count": 105,
   "id": "ecab79fd",
   "metadata": {},
   "outputs": [
    {
     "name": "stdout",
     "output_type": "stream",
     "text": [
      "Classification report:\n",
      "              precision    recall  f1-score   support\n",
      "\n",
      "           0       0.82      0.35      0.49       753\n",
      "           1       0.82      0.97      0.89      2260\n",
      "\n",
      "    accuracy                           0.82      3013\n",
      "   macro avg       0.82      0.66      0.69      3013\n",
      "weighted avg       0.82      0.82      0.79      3013\n",
      "\n"
     ]
    }
   ],
   "source": [
    "# print classification report, 0 = negative, 1 = true\n",
    "print(\"Classification report:\")\n",
    "print(classification_report(y_test, binary_predictions))"
   ]
  },
  {
   "cell_type": "markdown",
   "metadata": {},
   "source": [
    "## Understand the classification report\n",
    "- 0: Is the negative reviews\n",
    "- 1: Is the positive reviews\n",
    "- Precision: when the model predicts a particular class, how often is it correct.\n",
    "- Recall: Of all actual instances of a class, how many did the model correctly identify\n",
    "- f1-score: Mean of precision and recall\n",
    "- Support: Number of occurrences of each class in the test\n",
    "- Accuracy: How much the model is correct overall\n",
    "- Macro avg: Simple average of metrics across classes\n",
    "- Weighted avg: Average weigthed by the number of samples in each class \n"
   ]
  },
  {
   "cell_type": "markdown",
   "metadata": {},
   "source": [
    "# Visualize traning history\n",
    "Creating visualizations of model training process:"
   ]
  },
  {
   "cell_type": "code",
   "execution_count": null,
   "id": "02356cf4",
   "metadata": {},
   "outputs": [
    {
     "name": "stdout",
     "output_type": "stream",
     "text": [
      "Saved training history to 'training_history.png'\n"
     ]
    },
    {
     "data": {
      "image/png": "[encoded data removed]",
      "text/plain": [
       "<Figure size 1600x600 with 2 Axes>"
      ]
     },
     "metadata": {},
     "output_type": "display_data"
    }
   ],
   "source": [
    "# visualize traning history\n",
    "plt.figure(figsize=(16, 6))\n",
    "\n",
    "plt.subplot(1, 2, 1)\n",
    "plt.plot(history.history['accuracy'])\n",
    "plt.plot(history.history['val_accuracy'])\n",
    "plt.title('Model Accuracy')\n",
    "plt.ylabel('Accuracy')\n",
    "plt.xlabel('Epoch')\n",
    "plt.legend(['Train', 'Validation'])\n",
    "\n",
    "plt.subplot(1, 2, 2)\n",
    "plt.plot(history.history['loss'])\n",
    "plt.plot(history.history['val_loss'])\n",
    "plt.title('Model Loss')\n",
    "plt.ylabel('Loss')\n",
    "plt.xlabel('Epoch')\n",
    "plt.legend(['Train', 'Validation'])\n",
    "\n",
    "plt.tight_layout()\n",
    "plt.savefig('training_history.png')\n",
    "print(\"Saved training history to 'training_history.png'\")"
   ]
  },
  {
   "cell_type": "code",
   "execution_count": 107,
   "id": "8d13766d",
   "metadata": {},
   "outputs": [
    {
     "name": "stdout",
     "output_type": "stream",
     "text": [
      "Model saved to 'airbnb_sentiment_model'\n"
     ]
    }
   ],
   "source": [
    "# save the model\n",
    "model.save(\"airbnb_sentiment_model.keras\")\n",
    "print(\"Model saved to 'airbnb_sentiment_model'\")"
   ]
  },
  {
   "cell_type": "markdown",
   "metadata": {},
   "source": [
    "# Apply model to full dataset\n",
    "Using the trained model to classify sentiments in the original dataset:"
   ]
  },
  {
   "cell_type": "code",
   "execution_count": 108,
   "id": "0476d4bb",
   "metadata": {},
   "outputs": [],
   "source": [
    "# apply model to full dataset\n",
    "export_model = tf.keras.Sequential([\n",
    "    vectorize_layer,\n",
    "    model.layers[1],\n",
    "    model.layers[2],\n",
    "    model.layers[3],\n",
    "    model.layers[4],\n",
    "    model.layers[5]\n",
    "])"
   ]
  },
  {
   "cell_type": "code",
   "execution_count": 109,
   "id": "c728411c",
   "metadata": {},
   "outputs": [],
   "source": [
    "# sample the data if its to large\n",
    "sample_size = min(10000, len(df))\n",
    "df_sample = df.sample(n=sample_size, random_state=42)"
   ]
  },
  {
   "cell_type": "code",
   "execution_count": 110,
   "id": "306de700",
   "metadata": {},
   "outputs": [
    {
     "name": "stdout",
     "output_type": "stream",
     "text": [
      "\u001b[1m313/313\u001b[0m \u001b[32m━━━━━━━━━━━━━━━━━━━━\u001b[0m\u001b[37m\u001b[0m \u001b[1m0s\u001b[0m 1ms/step\n"
     ]
    }
   ],
   "source": [
    "# Apply the model to the sampled data\n",
    "df_sample['ml_sentiment_score'] = export_model.predict(df_sample['comments'].astype(str).values)\n",
    "df_sample['ml_sentiment'] = (df_sample['ml_sentiment_score'] > 0.5).astype(int)"
   ]
  },
  {
   "cell_type": "code",
   "execution_count": 111,
   "id": "d5ee5e31",
   "metadata": {},
   "outputs": [
    {
     "name": "stdout",
     "output_type": "stream",
     "text": [
      "\n",
      "Saved classified reviews to 'classified_reviews_ml_1.csv'\n",
      "Sample of the output:\n",
      "                listing_id                   id        date  reviewer_id  \\\n",
      "73727             36781505  1189743028714292817  2024-06-29    188893957   \n",
      "64853             31919882            462669774  2019-06-02    126590307   \n",
      "53680             26035968  1202817272612865311  2024-07-17    134376541   \n",
      "107250  620838362122237480   931061284082856145  2023-07-08    108726876   \n",
      "17260              6242152   646168561126218993  2022-06-10    174985334   \n",
      "\n",
      "       reviewer_name                                           comments  \\\n",
      "73727         Nienke  We had a good stay, the apartment was as pictu...   \n",
      "64853         Ursula  Very good communication, Roba was super nice a...   \n",
      "53680             은비  It was such a nice & great memories here.It wa...   \n",
      "107250           Zoe  Amazing property! It is so cute, has everythin...   \n",
      "17260         Ramana  Roger’s place has got a cool vibe, and is in a...   \n",
      "\n",
      "        ml_sentiment_score ml_sentiment_label  \n",
      "73727             0.739268           POSITIVE  \n",
      "64853             0.676215           POSITIVE  \n",
      "53680             0.922852           POSITIVE  \n",
      "107250            0.855128           POSITIVE  \n",
      "17260             0.086696           NEGATIVE  \n"
     ]
    }
   ],
   "source": [
    "df_sample[\"ml_sentiment_label\"] = df_sample[\"ml_sentiment\"].map({1: \"POSITIVE\", 0: \"NEGATIVE\"})\n",
    "output_columns = [\"listing_id\", \"id\", \"date\", \"reviewer_id\", \"reviewer_name\", \"comments\", \"ml_sentiment_score\", \"ml_sentiment_label\"]\n",
    "df_sample[output_columns].to_csv(\"classified_reviews_ml_1.csv\", index=False)\n",
    "\n",
    "print(\"\\nSaved classified reviews to 'classified_reviews_ml_1.csv'\")\n",
    "print(\"Sample of the output:\")\n",
    "print(df_sample[output_columns].head())"
   ]
  }
 ],
 "metadata": {
  "kernelspec": {
   "display_name": "venv",
   "language": "python",
   "name": "python3"
  },
  "language_info": {
   "codemirror_mode": {
    "name": "ipython",
    "version": 3
   },
   "file_extension": ".py",
   "mimetype": "text/x-python",
   "name": "python",
   "nbconvert_exporter": "python",
   "pygments_lexer": "ipython3",
   "version": "3.10.12"
  }
 },
 "nbformat": 4,
 "nbformat_minor": 5
}
