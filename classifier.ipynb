{
 "cells": [
  {
   "cell_type": "code",
   "execution_count": 2,
   "id": "75f93527",
   "metadata": {},
   "outputs": [
    {
     "name": "stderr",
     "output_type": "stream",
     "text": [
      "2025-04-23 15:39:31.523220: E external/local_xla/xla/stream_executor/cuda/cuda_fft.cc:467] Unable to register cuFFT factory: Attempting to register factory for plugin cuFFT when one has already been registered\n",
      "WARNING: All log messages before absl::InitializeLog() is called are written to STDERR\n",
      "E0000 00:00:1745415572.460904   93980 cuda_dnn.cc:8579] Unable to register cuDNN factory: Attempting to register factory for plugin cuDNN when one has already been registered\n",
      "E0000 00:00:1745415572.759566   93980 cuda_blas.cc:1407] Unable to register cuBLAS factory: Attempting to register factory for plugin cuBLAS when one has already been registered\n",
      "W0000 00:00:1745415575.273617   93980 computation_placer.cc:177] computation placer already registered. Please check linkage and avoid linking the same target more than once.\n",
      "W0000 00:00:1745415575.273645   93980 computation_placer.cc:177] computation placer already registered. Please check linkage and avoid linking the same target more than once.\n",
      "W0000 00:00:1745415575.273647   93980 computation_placer.cc:177] computation placer already registered. Please check linkage and avoid linking the same target more than once.\n",
      "W0000 00:00:1745415575.273649   93980 computation_placer.cc:177] computation placer already registered. Please check linkage and avoid linking the same target more than once.\n",
      "2025-04-23 15:39:35.467105: I tensorflow/core/platform/cpu_feature_guard.cc:210] This TensorFlow binary is optimized to use available CPU instructions in performance-critical operations.\n",
      "To enable the following instructions: AVX2 FMA, in other operations, rebuild TensorFlow with the appropriate compiler flags.\n",
      "/mnt/c/pa2572/assignment_1/pa2572/venv/lib/python3.10/site-packages/tqdm/auto.py:21: TqdmWarning: IProgress not found. Please update jupyter and ipywidgets. See https://ipywidgets.readthedocs.io/en/stable/user_install.html\n",
      "  from .autonotebook import tqdm as notebook_tqdm\n"
     ]
    }
   ],
   "source": [
    "import tensorflow as tf\n",
    "import pandas as pd\n",
    "import re\n",
    "from langdetect import detect\n",
    "from transformers import pipeline"
   ]
  },
  {
   "cell_type": "code",
   "execution_count": 4,
   "id": "ac487225",
   "metadata": {},
   "outputs": [],
   "source": [
    "#load the dataset\n",
    "df = pd.read_csv(\"reviews.csv\")\n",
    "\n",
    "# Clean html tags\n",
    "def clean_html(text):\n",
    "    if isinstance(text, str):\n",
    "        return re.sub(r\"<.*?>\", \"\", text)\n",
    "    return text\n",
    "\n",
    "\n",
    "# Remove the empty comments rows\n",
    "df = df.dropna(subset=[\"comments\"])\n",
    "\n",
    "df[\"comments\"] = df[\"comments\"].apply(clean_html)"
   ]
  },
  {
   "cell_type": "code",
   "execution_count": 5,
   "id": "76802794",
   "metadata": {},
   "outputs": [],
   "source": [
    "# Filter out the rows that isn't in English\n",
    "def is_english(text):\n",
    "    try:\n",
    "        return detect(text) == \"en\"\n",
    "    except:\n",
    "        return False\n",
    "    \n",
    "df[\"is_english\"] = df[\"comments\"].apply(is_english)\n",
    "df = df[df[\"is_english\"]]\n",
    "\n"
   ]
  },
  {
   "cell_type": "code",
   "execution_count": 7,
   "id": "40565f15",
   "metadata": {},
   "outputs": [
    {
     "name": "stdout",
     "output_type": "stream",
     "text": [
      "0         great fun at lidia's. she had the power adapte...\n",
      "1         Great centrally located room, very nice facili...\n",
      "2         Lidia is a very nice person. Very good plase t...\n",
      "3         Great host, although we were late in our arriv...\n",
      "4         Good location (for us), the bed was good and t...\n",
      "                                ...                        \n",
      "144934    Everything was good. The owner was really frie...\n",
      "144935    Oskar was great with his communication and alw...\n",
      "144938    Erica’s apartment was perfect for us. It has e...\n",
      "144942    A really lovely apartment with lots of charact...\n",
      "144944    Had a great stay at Jairo’s flat! The room its...\n",
      "Name: comments, Length: 99702, dtype: object\n"
     ]
    }
   ],
   "source": [
    "print(df[\"comments\"])"
   ]
  },
  {
   "cell_type": "code",
   "execution_count": null,
   "id": "f76be1d1",
   "metadata": {},
   "outputs": [
    {
     "name": "stderr",
     "output_type": "stream",
     "text": [
      "No model was supplied, defaulted to distilbert/distilbert-base-uncased-finetuned-sst-2-english and revision 714eb0f (https://huggingface.co/distilbert/distilbert-base-uncased-finetuned-sst-2-english).\n",
      "Using a pipeline without specifying a model name and revision in production is not recommended.\n",
      "Device set to use cuda:0\n"
     ]
    },
    {
     "name": "stdout",
     "output_type": "stream",
     "text": [
      "[{'label': 'NEGATIVE', 'score': 0.9937177896499634}]\n"
     ]
    }
   ],
   "source": [
    "# load huggingface sentiment pipline\n",
    "sentiment_pipeline = pipeline(\"sentiment-analysis\")\n"
   ]
  },
  {
   "cell_type": "code",
   "execution_count": 6,
   "id": "2e23b8fc",
   "metadata": {},
   "outputs": [
    {
     "name": "stderr",
     "output_type": "stream",
     "text": [
      "You seem to be using the pipelines sequentially on GPU. In order to maximize efficiency please use a dataset\n"
     ]
    }
   ],
   "source": [
    "# apply sentiment analysis\n",
    "def get_sentiment(text):\n",
    "    try:\n",
    "        result = sentiment_pipeline(text[:512])[0]\n",
    "        return result[\"label\"]\n",
    "    except:\n",
    "        return \"UNKNOWN\"\n",
    "    \n",
    "df[\"sentiment\"] = df[\"comments\"].apply(get_sentiment)"
   ]
  },
  {
   "cell_type": "code",
   "execution_count": 8,
   "id": "93c3f08f",
   "metadata": {},
   "outputs": [],
   "source": [
    "# Save the results\n",
    "df.to_csv(\"airbnb_reviews_with_sentiment.csv\", index=False)\n"
   ]
  },
  {
   "cell_type": "code",
   "execution_count": 10,
   "id": "7be9c212",
   "metadata": {},
   "outputs": [
    {
     "name": "stdout",
     "output_type": "stream",
     "text": [
      "                                                 comments sentiment\n",
      "0       great fun at lidia's. she had the power adapte...  POSITIVE\n",
      "1       Great centrally located room, very nice facili...  POSITIVE\n",
      "2       Lidia is a very nice person. Very good plase t...  POSITIVE\n",
      "3       Great host, although we were late in our arriv...  POSITIVE\n",
      "4       Good location (for us), the bed was good and t...  POSITIVE\n",
      "...                                                   ...       ...\n",
      "144934  Everything was good. The owner was really frie...  POSITIVE\n",
      "144935  Oskar was great with his communication and alw...  POSITIVE\n",
      "144938  Erica’s apartment was perfect for us. It has e...  POSITIVE\n",
      "144942  A really lovely apartment with lots of charact...  POSITIVE\n",
      "144944  Had a great stay at Jairo’s flat! The room its...  POSITIVE\n",
      "\n",
      "[99702 rows x 2 columns]\n"
     ]
    }
   ],
   "source": [
    "print(df[[\"comments\", \"sentiment\"]])"
   ]
  }
 ],
 "metadata": {
  "kernelspec": {
   "display_name": "venv",
   "language": "python",
   "name": "python3"
  },
  "language_info": {
   "codemirror_mode": {
    "name": "ipython",
    "version": 3
   },
   "file_extension": ".py",
   "mimetype": "text/x-python",
   "name": "python",
   "nbconvert_exporter": "python",
   "pygments_lexer": "ipython3",
   "version": "3.10.12"
  }
 },
 "nbformat": 4,
 "nbformat_minor": 5
}
