{
 "cells": [
  {
   "cell_type": "code",
   "execution_count": 186,
   "id": "2a5d9d29",
   "metadata": {},
   "outputs": [],
   "source": [
    "# apply the model to the sampled data\n",
    "predictions_1 = export_model.predict(df_sample[\"comments\"].astype(str).values)\n",
    "predictions_1 = predictions.flatten()\n",
    "\n",
    "df_sample[\"ml_sentiment_score\"] = predictions_1\n",
    "df_sample[\"ml_sentiment\"] = (df_sample[\"ml_sentiment_score\"] > 0.5).astype(int)\n",
    "\n",
    "# print(\"Sample of prediction scores:\")\n",
    "# print(df_sample[[\"comments\", \"ml_sentiment_score\", \"ml_sentiment\"]].head())\n",
    "\n",
    "# # Verify the range of sentiment scores\n",
    "# print(\"\\nMin sentiment score:\", df_sample[\"ml_sentiment_score\"].min())\n",
    "# print(\"Max sentiment score:\", df_sample[\"ml_sentiment_score\"].max())\n",
    "# print(\"Distribution of sentiment scores:\")\n",
    "# print(pd.cut(df_sample[\"ml_sentiment_score\"], bins=10).value_counts().sort_index())\n"
   ]
  },
  {
   "cell_type": "code",
   "execution_count": 187,
   "id": "f3c233e4",
   "metadata": {},
   "outputs": [],
   "source": [
    "# save the results\n",
    "output_columns = [\"listing_id\", \"id\", \"date\", \"reviewer_id\", \"reviewer_name\", \"comments\", \"sentiment_label\", \"ml_sentiment_score\", \"ml_sentiment\"]\n",
    "df_sample[output_columns].to_csv(\"classified_reviews_ml_1.csv\", index=False)\n",
    "print(\"Saved classified reviews to 'classified_reviews_ml_1.csv'\")\n",
    "print(\"Sample of the output:\")\n",
    "print(df_sample[output_columns].head())"
   ]
  },
  {
   "cell_type": "code",
   "execution_count": 152,
   "id": "75f93527",
   "metadata": {},
   "outputs": [],
   "source": [
    "import tensorflow as tf\n",
    "import tensorflow_hub as hub\n",
    "import tensorflow_text as text\n",
    "import pandas as pd\n",
    "import re\n",
    "from langdetect import detect\n",
    "from sklearn.model_selection import train_test_split\n",
    "from sklearn.metrics import classification_report, confusion_matrix\n",
    "from tensorflow.keras.preprocessing.text import Tokenizer\n",
    "from tensorflow.keras.preprocessing.sequence import pad_sequences\n",
    "import numpy as np\n",
    "import matplotlib.pyplot as plt\n",
    "import seaborn as sns\n"
   ]
  },
  {
   "cell_type": "code",
   "execution_count": 153,
   "id": "311dc6a2",
   "metadata": {},
   "outputs": [],
   "source": [
    "#load the dataset\n",
    "print(\"loading airbnb reviews dataset...\")\n",
    "df = pd.read_csv(\"reviews.csv\")\n",
    "print(f\"Orginal dataset\\n {df}\")"
   ]
  },
  {
   "cell_type": "code",
   "execution_count": 154,
   "id": "c5e85c25",
   "metadata": {},
   "outputs": [],
   "source": [
    "# Clean html tags\n",
    "def clean_html(text):\n",
    "    if isinstance(text, str):\n",
    "        return re.sub(r\"<.*?>\", \"\", text)\n",
    "    return text"
   ]
  },
  {
   "cell_type": "code",
   "execution_count": 155,
   "id": "ac487225",
   "metadata": {},
   "outputs": [],
   "source": [
    "# Remove the empty comments rows\n",
    "df = df.dropna(subset=[\"comments\"])\n",
    "df[\"comments\"] = df[\"comments\"].apply(clean_html)\n",
    "print(f\"After remoing empty comments\\n {df}\")"
   ]
  },
  {
   "cell_type": "code",
   "execution_count": 156,
   "id": "76802794",
   "metadata": {},
   "outputs": [],
   "source": [
    "# Filter out the rows that isn't in English\n",
    "def is_english(text):\n",
    "    try:\n",
    "        return detect(text) == \"en\"\n",
    "    except:\n",
    "        return False\n",
    "    \n",
    "df[\"is_english\"] = df[\"comments\"].apply(is_english)\n",
    "df = df[df[\"is_english\"]]\n",
    "print(f\"After removing non-english comments\\n {df}\")"
   ]
  },
  {
   "cell_type": "code",
   "execution_count": 203,
   "id": "517a246f",
   "metadata": {},
   "outputs": [
    {
     "name": "stdout",
     "output_type": "stream",
     "text": [
      "Creating labels for training model...\n"
     ]
    }
   ],
   "source": [
    "# create the model\n",
    "print(\"Creating labels for training model...\")\n",
    "positive_words = ['great', 'good', 'nice', 'excellent', 'perfect', 'happy', 'wonderful', \n",
    "                 'fantastic', 'amazing', 'love', 'best', 'beautiful', 'clean', 'comfortable']\n",
    "negative_words = ['bad', 'poor', 'terrible', 'horrible', 'awful', 'worst', 'dirty', \n",
    "                 'disappointing', 'disappointment', 'uncomfortable', 'problem', 'not clean', 'broken']"
   ]
  },
  {
   "cell_type": "code",
   "execution_count": 204,
   "id": "0368d890",
   "metadata": {},
   "outputs": [],
   "source": [
    "def simple_sentiment(text):\n",
    "    if not isinstance(text, str):\n",
    "        return 1\n",
    "    \n",
    "    text = text.lower()\n",
    "    pos_count = sum(1 for word in positive_words if word in text)\n",
    "    neg_count = sum(1 for word in negative_words if word in text)\n",
    "\n",
    "    if neg_count > pos_count:\n",
    "        return \"NEGATIVE\" \n",
    "    else:\n",
    "        return \"POSITIVE\""
   ]
  },
  {
   "cell_type": "code",
   "execution_count": 205,
   "id": "a2f8847f",
   "metadata": {},
   "outputs": [],
   "source": [
    "# create simple labels\n",
    "df[\"sentiment_label\"] = df[\"comments\"].apply(simple_sentiment)"
   ]
  },
  {
   "cell_type": "code",
   "execution_count": 206,
   "id": "6c74a1e7",
   "metadata": {},
   "outputs": [
    {
     "name": "stdout",
     "output_type": "stream",
     "text": [
      "\n",
      "Initial sentiment distribution:\n",
      "sentiment_label\n",
      "POSITIVE    99257\n",
      "NEGATIVE      448\n",
      "Name: count, dtype: int64\n",
      "Positive percentage: 0.45%\n"
     ]
    },
    {
     "name": "stderr",
     "output_type": "stream",
     "text": [
      "/tmp/ipykernel_943/2134060337.py:5: FutureWarning: Series.__getitem__ treating keys as positions is deprecated. In a future version, integer keys will always be treated as labels (consistent with DataFrame behavior). To access a value by position, use `ser.iloc[pos]`\n",
      "  print(f\"Positive percentage: {label_counts[1]/len(df)*100:.2f}%\")\n"
     ]
    }
   ],
   "source": [
    "# Print distribution of initial labels\n",
    "print(\"\\nInitial sentiment distribution:\")\n",
    "label_counts = df[\"sentiment_label\"].value_counts()\n",
    "print(label_counts)\n",
    "print(f\"Positive percentage: {label_counts[1]/len(df)*100:.2f}%\")"
   ]
  },
  {
   "cell_type": "code",
   "execution_count": 161,
   "id": "911a8d3e",
   "metadata": {},
   "outputs": [],
   "source": [
    "# # Create simple labels\n",
    "# df[\"sentiment\"] = df[\"comments\"].apply(simple_sentiment)\n",
    "\n",
    "# # Print sentiment inital distribution\n",
    "# print(\"\\nInitial Sentiment distribution:\")\n",
    "# label_counts = df[\"sentiment\"].value_counts()\n",
    "# print(label_counts)\n",
    "# print(f\"Positive percentage: {label_counts['POSITIVE']/len(df)*100:.2f}%\")"
   ]
  },
  {
   "cell_type": "code",
   "execution_count": 207,
   "id": "d534fe2e",
   "metadata": {},
   "outputs": [],
   "source": [
    "#Convert sentiment labels to numeric values\n",
    "df[\"sentiment_numeric\"] = df[\"sentiment_label\"].map({\"POSITIVE\": 1, \"NEGATIVE\": 0})"
   ]
  },
  {
   "cell_type": "code",
   "execution_count": 208,
   "id": "3751ccb9",
   "metadata": {},
   "outputs": [],
   "source": [
    "# Handle class imbalance\n",
    "positive_samples = df[df[\"sentiment_numeric\"] == 1]\n",
    "negative_samples = df[df[\"sentiment_numeric\"] == 0]"
   ]
  },
  {
   "cell_type": "code",
   "execution_count": 209,
   "id": "62ea1ae0",
   "metadata": {},
   "outputs": [
    {
     "name": "stdout",
     "output_type": "stream",
     "text": [
      "\n",
      "Balanced dataset shape: (1792, 9)\n",
      "Balanced sentiment distribution:\n",
      "sentiment_label\n",
      "POSITIVE    1344\n",
      "NEGATIVE     448\n",
      "Name: count, dtype: int64\n"
     ]
    }
   ],
   "source": [
    "# get some number of positive samples as negative samples\n",
    "positive_down_sampled = positive_samples.sample(n=len(negative_samples) * 3, random_state=42)\n",
    "balanced_df = pd.concat([positive_down_sampled, negative_samples])\n",
    "\n",
    "print(f\"\\nBalanced dataset shape: {balanced_df.shape}\")\n",
    "print(\"Balanced sentiment distribution:\")\n",
    "print(balanced_df['sentiment_label'].value_counts())"
   ]
  },
  {
   "cell_type": "code",
   "execution_count": 210,
   "id": "eadb180d",
   "metadata": {},
   "outputs": [
    {
     "name": "stdout",
     "output_type": "stream",
     "text": [
      "Training set size: 1433\n",
      "Test set size: 359\n"
     ]
    }
   ],
   "source": [
    "# split the data into training and testing sets\n",
    "x_train, x_test, y_train, y_test = train_test_split(\n",
    "    balanced_df[\"comments\"],\n",
    "    balanced_df[\"sentiment_numeric\"],\n",
    "    test_size=0.2,\n",
    "    random_state=42\n",
    ")\n",
    "\n",
    "print(f\"Training set size: {len(x_train)}\")\n",
    "print(f\"Test set size: {len(x_test)}\")"
   ]
  },
  {
   "cell_type": "code",
   "execution_count": 211,
   "id": "4ba423d9",
   "metadata": {},
   "outputs": [],
   "source": [
    "#create a text vectorization layer\n",
    "max_features = 10000\n",
    "sequence_length = 250\n",
    "\n",
    "vectorize_layer = tf.keras.layers.TextVectorization(\n",
    "    standardize=\"lower_and_strip_punctuation\",\n",
    "    max_tokens=max_features,\n",
    "    output_mode=\"int\",\n",
    "    output_sequence_length=sequence_length\n",
    ")\n"
   ]
  },
  {
   "cell_type": "code",
   "execution_count": 212,
   "id": "0af52f4d",
   "metadata": {},
   "outputs": [],
   "source": [
    "vectorize_layer.adapt(x_train.values)"
   ]
  },
  {
   "cell_type": "code",
   "execution_count": 213,
   "id": "fae5869f",
   "metadata": {},
   "outputs": [],
   "source": [
    "# build the model\n",
    "embedding_dim = 16\n",
    "\n",
    "model = tf.keras.Sequential([\n",
    "    vectorize_layer,\n",
    "    tf.keras.layers.Embedding(max_features + 1,embedding_dim),\n",
    "    tf.keras.layers.Dropout(0.2),\n",
    "    tf.keras.layers.GlobalAveragePooling1D(),\n",
    "    tf.keras.layers.Dropout(0.2),\n",
    "    tf.keras.layers.Dense(1, activation=\"sigmoid\")\n",
    "])"
   ]
  },
  {
   "cell_type": "code",
   "execution_count": 214,
   "id": "30bcabf2",
   "metadata": {},
   "outputs": [
    {
     "data": {
      "text/html": [
       "<pre style=\"white-space:pre;overflow-x:auto;line-height:normal;font-family:Menlo,'DejaVu Sans Mono',consolas,'Courier New',monospace\"><span style=\"font-weight: bold\">Model: \"sequential_13\"</span>\n",
       "</pre>\n"
      ],
      "text/plain": [
       "\u001b[1mModel: \"sequential_13\"\u001b[0m\n"
      ]
     },
     "metadata": {},
     "output_type": "display_data"
    },
    {
     "data": {
      "text/html": [
       "<pre style=\"white-space:pre;overflow-x:auto;line-height:normal;font-family:Menlo,'DejaVu Sans Mono',consolas,'Courier New',monospace\">┏━━━━━━━━━━━━━━━━━━━━━━━━━━━━━━━━━┳━━━━━━━━━━━━━━━━━━━━━━━━┳━━━━━━━━━━━━━━━┓\n",
       "┃<span style=\"font-weight: bold\"> Layer (type)                    </span>┃<span style=\"font-weight: bold\"> Output Shape           </span>┃<span style=\"font-weight: bold\">       Param # </span>┃\n",
       "┡━━━━━━━━━━━━━━━━━━━━━━━━━━━━━━━━━╇━━━━━━━━━━━━━━━━━━━━━━━━╇━━━━━━━━━━━━━━━┩\n",
       "│ text_vectorization_7            │ ?                      │   <span style=\"color: #00af00; text-decoration-color: #00af00\">0</span> (unbuilt) │\n",
       "│ (<span style=\"color: #0087ff; text-decoration-color: #0087ff\">TextVectorization</span>)             │                        │               │\n",
       "├─────────────────────────────────┼────────────────────────┼───────────────┤\n",
       "│ embedding_10 (<span style=\"color: #0087ff; text-decoration-color: #0087ff\">Embedding</span>)        │ ?                      │   <span style=\"color: #00af00; text-decoration-color: #00af00\">0</span> (unbuilt) │\n",
       "├─────────────────────────────────┼────────────────────────┼───────────────┤\n",
       "│ dropout_19 (<span style=\"color: #0087ff; text-decoration-color: #0087ff\">Dropout</span>)            │ ?                      │             <span style=\"color: #00af00; text-decoration-color: #00af00\">0</span> │\n",
       "├─────────────────────────────────┼────────────────────────┼───────────────┤\n",
       "│ global_average_pooling1d_8      │ ?                      │             <span style=\"color: #00af00; text-decoration-color: #00af00\">0</span> │\n",
       "│ (<span style=\"color: #0087ff; text-decoration-color: #0087ff\">GlobalAveragePooling1D</span>)        │                        │               │\n",
       "├─────────────────────────────────┼────────────────────────┼───────────────┤\n",
       "│ dropout_20 (<span style=\"color: #0087ff; text-decoration-color: #0087ff\">Dropout</span>)            │ ?                      │             <span style=\"color: #00af00; text-decoration-color: #00af00\">0</span> │\n",
       "├─────────────────────────────────┼────────────────────────┼───────────────┤\n",
       "│ dense_11 (<span style=\"color: #0087ff; text-decoration-color: #0087ff\">Dense</span>)                │ ?                      │   <span style=\"color: #00af00; text-decoration-color: #00af00\">0</span> (unbuilt) │\n",
       "└─────────────────────────────────┴────────────────────────┴───────────────┘\n",
       "</pre>\n"
      ],
      "text/plain": [
       "┏━━━━━━━━━━━━━━━━━━━━━━━━━━━━━━━━━┳━━━━━━━━━━━━━━━━━━━━━━━━┳━━━━━━━━━━━━━━━┓\n",
       "┃\u001b[1m \u001b[0m\u001b[1mLayer (type)                   \u001b[0m\u001b[1m \u001b[0m┃\u001b[1m \u001b[0m\u001b[1mOutput Shape          \u001b[0m\u001b[1m \u001b[0m┃\u001b[1m \u001b[0m\u001b[1m      Param #\u001b[0m\u001b[1m \u001b[0m┃\n",
       "┡━━━━━━━━━━━━━━━━━━━━━━━━━━━━━━━━━╇━━━━━━━━━━━━━━━━━━━━━━━━╇━━━━━━━━━━━━━━━┩\n",
       "│ text_vectorization_7            │ ?                      │   \u001b[38;5;34m0\u001b[0m (unbuilt) │\n",
       "│ (\u001b[38;5;33mTextVectorization\u001b[0m)             │                        │               │\n",
       "├─────────────────────────────────┼────────────────────────┼───────────────┤\n",
       "│ embedding_10 (\u001b[38;5;33mEmbedding\u001b[0m)        │ ?                      │   \u001b[38;5;34m0\u001b[0m (unbuilt) │\n",
       "├─────────────────────────────────┼────────────────────────┼───────────────┤\n",
       "│ dropout_19 (\u001b[38;5;33mDropout\u001b[0m)            │ ?                      │             \u001b[38;5;34m0\u001b[0m │\n",
       "├─────────────────────────────────┼────────────────────────┼───────────────┤\n",
       "│ global_average_pooling1d_8      │ ?                      │             \u001b[38;5;34m0\u001b[0m │\n",
       "│ (\u001b[38;5;33mGlobalAveragePooling1D\u001b[0m)        │                        │               │\n",
       "├─────────────────────────────────┼────────────────────────┼───────────────┤\n",
       "│ dropout_20 (\u001b[38;5;33mDropout\u001b[0m)            │ ?                      │             \u001b[38;5;34m0\u001b[0m │\n",
       "├─────────────────────────────────┼────────────────────────┼───────────────┤\n",
       "│ dense_11 (\u001b[38;5;33mDense\u001b[0m)                │ ?                      │   \u001b[38;5;34m0\u001b[0m (unbuilt) │\n",
       "└─────────────────────────────────┴────────────────────────┴───────────────┘\n"
      ]
     },
     "metadata": {},
     "output_type": "display_data"
    },
    {
     "data": {
      "text/html": [
       "<pre style=\"white-space:pre;overflow-x:auto;line-height:normal;font-family:Menlo,'DejaVu Sans Mono',consolas,'Courier New',monospace\"><span style=\"font-weight: bold\"> Total params: </span><span style=\"color: #00af00; text-decoration-color: #00af00\">0</span> (0.00 B)\n",
       "</pre>\n"
      ],
      "text/plain": [
       "\u001b[1m Total params: \u001b[0m\u001b[38;5;34m0\u001b[0m (0.00 B)\n"
      ]
     },
     "metadata": {},
     "output_type": "display_data"
    },
    {
     "data": {
      "text/html": [
       "<pre style=\"white-space:pre;overflow-x:auto;line-height:normal;font-family:Menlo,'DejaVu Sans Mono',consolas,'Courier New',monospace\"><span style=\"font-weight: bold\"> Trainable params: </span><span style=\"color: #00af00; text-decoration-color: #00af00\">0</span> (0.00 B)\n",
       "</pre>\n"
      ],
      "text/plain": [
       "\u001b[1m Trainable params: \u001b[0m\u001b[38;5;34m0\u001b[0m (0.00 B)\n"
      ]
     },
     "metadata": {},
     "output_type": "display_data"
    },
    {
     "data": {
      "text/html": [
       "<pre style=\"white-space:pre;overflow-x:auto;line-height:normal;font-family:Menlo,'DejaVu Sans Mono',consolas,'Courier New',monospace\"><span style=\"font-weight: bold\"> Non-trainable params: </span><span style=\"color: #00af00; text-decoration-color: #00af00\">0</span> (0.00 B)\n",
       "</pre>\n"
      ],
      "text/plain": [
       "\u001b[1m Non-trainable params: \u001b[0m\u001b[38;5;34m0\u001b[0m (0.00 B)\n"
      ]
     },
     "metadata": {},
     "output_type": "display_data"
    }
   ],
   "source": [
    "# compile the model\n",
    "model.compile(\n",
    "    loss=tf.keras.losses.BinaryCrossentropy(from_logits=False),\n",
    "    optimizer=\"adam\",\n",
    "    metrics=[\"accuracy\"]\n",
    ")\n",
    "model.summary()"
   ]
  },
  {
   "cell_type": "code",
   "execution_count": 215,
   "id": "edc3fea0",
   "metadata": {},
   "outputs": [
    {
     "name": "stdout",
     "output_type": "stream",
     "text": [
      "object int64\n",
      "Epoch 1/10\n",
      "\u001b[1m36/36\u001b[0m \u001b[32m━━━━━━━━━━━━━━━━━━━━\u001b[0m\u001b[37m\u001b[0m \u001b[1m1s\u001b[0m 8ms/step - accuracy: 0.7270 - loss: 0.5799 - val_accuracy: 0.7282 - val_loss: 0.5669\n",
      "Epoch 2/10\n",
      "\u001b[1m36/36\u001b[0m \u001b[32m━━━━━━━━━━━━━━━━━━━━\u001b[0m\u001b[37m\u001b[0m \u001b[1m0s\u001b[0m 5ms/step - accuracy: 0.7734 - loss: 0.5022 - val_accuracy: 0.7282 - val_loss: 0.5566\n",
      "Epoch 3/10\n",
      "\u001b[1m36/36\u001b[0m \u001b[32m━━━━━━━━━━━━━━━━━━━━\u001b[0m\u001b[37m\u001b[0m \u001b[1m0s\u001b[0m 4ms/step - accuracy: 0.7713 - loss: 0.4959 - val_accuracy: 0.7282 - val_loss: 0.5496\n",
      "Epoch 4/10\n",
      "\u001b[1m36/36\u001b[0m \u001b[32m━━━━━━━━━━━━━━━━━━━━\u001b[0m\u001b[37m\u001b[0m \u001b[1m0s\u001b[0m 4ms/step - accuracy: 0.7586 - loss: 0.5191 - val_accuracy: 0.7282 - val_loss: 0.5476\n",
      "Epoch 5/10\n",
      "\u001b[1m36/36\u001b[0m \u001b[32m━━━━━━━━━━━━━━━━━━━━\u001b[0m\u001b[37m\u001b[0m \u001b[1m0s\u001b[0m 4ms/step - accuracy: 0.7876 - loss: 0.4731 - val_accuracy: 0.7282 - val_loss: 0.5419\n",
      "Epoch 6/10\n",
      "\u001b[1m36/36\u001b[0m \u001b[32m━━━━━━━━━━━━━━━━━━━━\u001b[0m\u001b[37m\u001b[0m \u001b[1m0s\u001b[0m 4ms/step - accuracy: 0.7604 - loss: 0.5016 - val_accuracy: 0.7352 - val_loss: 0.5438\n",
      "Epoch 7/10\n",
      "\u001b[1m36/36\u001b[0m \u001b[32m━━━━━━━━━━━━━━━━━━━━\u001b[0m\u001b[37m\u001b[0m \u001b[1m0s\u001b[0m 5ms/step - accuracy: 0.7703 - loss: 0.5009 - val_accuracy: 0.7352 - val_loss: 0.5381\n",
      "Epoch 8/10\n",
      "\u001b[1m36/36\u001b[0m \u001b[32m━━━━━━━━━━━━━━━━━━━━\u001b[0m\u001b[37m\u001b[0m \u001b[1m0s\u001b[0m 4ms/step - accuracy: 0.7622 - loss: 0.4994 - val_accuracy: 0.7422 - val_loss: 0.5355\n",
      "Epoch 9/10\n",
      "\u001b[1m36/36\u001b[0m \u001b[32m━━━━━━━━━━━━━━━━━━━━\u001b[0m\u001b[37m\u001b[0m \u001b[1m0s\u001b[0m 4ms/step - accuracy: 0.7720 - loss: 0.4922 - val_accuracy: 0.7456 - val_loss: 0.5292\n",
      "Epoch 10/10\n",
      "\u001b[1m36/36\u001b[0m \u001b[32m━━━━━━━━━━━━━━━━━━━━\u001b[0m\u001b[37m\u001b[0m \u001b[1m0s\u001b[0m 4ms/step - accuracy: 0.7689 - loss: 0.4978 - val_accuracy: 0.7491 - val_loss: 0.5272\n"
     ]
    }
   ],
   "source": [
    "# Train the model\n",
    "x_train = np.array(x_train)\n",
    "y_train = np.array(y_train)\n",
    "print(x_train.dtype, y_train.dtype)\n",
    "\n",
    "\n",
    "history = model.fit(\n",
    "    x_train,\n",
    "    y_train,\n",
    "    epochs=10,\n",
    "    batch_size=32,\n",
    "    validation_split=0.2,\n",
    "    verbose=1\n",
    ")"
   ]
  },
  {
   "cell_type": "code",
   "execution_count": 216,
   "id": "8e2ca9a3",
   "metadata": {},
   "outputs": [
    {
     "name": "stdout",
     "output_type": "stream",
     "text": [
      "\u001b[1m12/12\u001b[0m \u001b[32m━━━━━━━━━━━━━━━━━━━━\u001b[0m\u001b[37m\u001b[0m \u001b[1m0s\u001b[0m 2ms/step - accuracy: 0.7471 - loss: 0.5176 \n",
      "Test accuracy: 0.7465\n"
     ]
    }
   ],
   "source": [
    "# eval model\n",
    "\n",
    "x_test = np.array(x_test.tolist()) if isinstance(x_test, np.ndarray) else np.array(x_test)\n",
    "y_test = np.array(y_test.tolist()) if isinstance(y_test, np.ndarray) else np.array(y_test)\n",
    "\n",
    "\n",
    "loss, accuracy = model.evaluate(x_test, y_test)\n",
    "print(f\"Test accuracy: {accuracy:.4f}\")"
   ]
  },
  {
   "cell_type": "code",
   "execution_count": 217,
   "id": "496d52be",
   "metadata": {},
   "outputs": [
    {
     "name": "stdout",
     "output_type": "stream",
     "text": [
      "\u001b[1m12/12\u001b[0m \u001b[32m━━━━━━━━━━━━━━━━━━━━\u001b[0m\u001b[37m\u001b[0m \u001b[1m0s\u001b[0m 5ms/step \n"
     ]
    }
   ],
   "source": [
    "# predict and analyse\n",
    "predictions = model.predict(x_test)\n",
    "binary_predictions = (predictions > 0.5).astype(int)"
   ]
  },
  {
   "cell_type": "code",
   "execution_count": 218,
   "id": "ecab79fd",
   "metadata": {},
   "outputs": [
    {
     "name": "stdout",
     "output_type": "stream",
     "text": [
      "Classification report:\n",
      "              precision    recall  f1-score   support\n",
      "\n",
      "           0       0.89      0.08      0.15        98\n",
      "           1       0.74      1.00      0.85       261\n",
      "\n",
      "    accuracy                           0.75       359\n",
      "   macro avg       0.82      0.54      0.50       359\n",
      "weighted avg       0.78      0.75      0.66       359\n",
      "\n"
     ]
    }
   ],
   "source": [
    "# print classification report\n",
    "print(\"Classification report:\")\n",
    "print(classification_report(y_test, binary_predictions))"
   ]
  },
  {
   "cell_type": "code",
   "execution_count": 219,
   "id": "02356cf4",
   "metadata": {},
   "outputs": [
    {
     "name": "stdout",
     "output_type": "stream",
     "text": [
      "Saved training history to 'training_history.png'\n"
     ]
    },
    {
     "data": {
      "image/png": "[encoded data removed]",
      "text/plain": [
       "<Figure size 1600x600 with 2 Axes>"
      ]
     },
     "metadata": {},
     "output_type": "display_data"
    }
   ],
   "source": [
    "# 10. VISUALIZE TRAINING HISTORY\n",
    "plt.figure(figsize=(16, 6))\n",
    "\n",
    "plt.subplot(1, 2, 1)\n",
    "plt.plot(history.history['accuracy'])\n",
    "plt.plot(history.history['val_accuracy'])\n",
    "plt.title('Model Accuracy')\n",
    "plt.ylabel('Accuracy')\n",
    "plt.xlabel('Epoch')\n",
    "plt.legend(['Train', 'Validation'])\n",
    "\n",
    "plt.subplot(1, 2, 2)\n",
    "plt.plot(history.history['loss'])\n",
    "plt.plot(history.history['val_loss'])\n",
    "plt.title('Model Loss')\n",
    "plt.ylabel('Loss')\n",
    "plt.xlabel('Epoch')\n",
    "plt.legend(['Train', 'Validation'])\n",
    "\n",
    "plt.tight_layout()\n",
    "plt.savefig('training_history.png')\n",
    "print(\"Saved training history to 'training_history.png'\")"
   ]
  },
  {
   "cell_type": "code",
   "execution_count": 220,
   "id": "8d13766d",
   "metadata": {},
   "outputs": [
    {
     "name": "stdout",
     "output_type": "stream",
     "text": [
      "Model saved to 'airbnb_sentiment_model'\n"
     ]
    }
   ],
   "source": [
    "# save the model\n",
    "model.save(\"airbnb_sentiment_model.keras\")\n",
    "print(\"Model saved to 'airbnb_sentiment_model'\")"
   ]
  },
  {
   "cell_type": "code",
   "execution_count": 221,
   "id": "0476d4bb",
   "metadata": {},
   "outputs": [],
   "source": [
    "# apply model to full dataset\n",
    "export_model = tf.keras.Sequential([\n",
    "    vectorize_layer,\n",
    "    model.layers[1],\n",
    "    model.layers[2],\n",
    "    model.layers[3],\n",
    "    model.layers[4],\n",
    "    model.layers[5]\n",
    "])"
   ]
  },
  {
   "cell_type": "code",
   "execution_count": 222,
   "id": "c728411c",
   "metadata": {},
   "outputs": [],
   "source": [
    "# sample the data if its to large\n",
    "sample_size = min(10000, len(df))\n",
    "df_sample = df.sample(n=sample_size, random_state=42)"
   ]
  },
  {
   "cell_type": "code",
   "execution_count": 223,
   "metadata": {},
   "outputs": [
    {
     "name": "stdout",
     "output_type": "stream",
     "text": [
      "\u001b[1m313/313\u001b[0m \u001b[32m━━━━━━━━━━━━━━━━━━━━\u001b[0m\u001b[37m\u001b[0m \u001b[1m0s\u001b[0m 1ms/step\n"
     ]
    }
   ],
   "source": [
    "# Apply the model to the sampled data\n",
    "df_sample['ml_sentiment_score'] = export_model.predict(df_sample['comments'].astype(str).values)\n",
    "df_sample['ml_sentiment'] = (df_sample['ml_sentiment_score'] > 0.5).astype(int)"
   ]
  },
  {
   "cell_type": "code",
   "execution_count": 226,
   "metadata": {},
   "outputs": [
    {
     "name": "stdout",
     "output_type": "stream",
     "text": [
      "\n",
      "Saved classified reviews to 'classified_reviews_ml_1.csv'\n",
      "Sample of the output:\n",
      "       listing_id                   id        date  reviewer_id reviewer_name  \\\n",
      "89748    46752010   896955831442471766  2023-05-22    402926410          Anne   \n",
      "58756    30553531  1001332949177022015  2023-10-13     32050830      Jennifer   \n",
      "1098       299154             21769773  2014-10-23     22280153        Tereza   \n",
      "81886    40459957  1128900631296386641  2024-04-06    124388740      Clarence   \n",
      "58309    30251993  1207175884646315540  2024-07-23     67989108       Gabriel   \n",
      "\n",
      "                                                comments  ml_sentiment_score  \\\n",
      "89748  This place is great - awesome location. As the...            0.814731   \n",
      "58756  The place is very clean and accessible, and th...            0.845077   \n",
      "1098   Daniels apartment is in very nice neiborhood w...            0.817167   \n",
      "81886   great place, great location and amazing service!            0.858023   \n",
      "58309  There were a few problems, but Hedvig tried he...            0.845795   \n",
      "\n",
      "      ml_sentiment_label  \n",
      "89748           POSITIVE  \n",
      "58756           POSITIVE  \n",
      "1098            POSITIVE  \n",
      "81886           POSITIVE  \n",
      "58309           POSITIVE  \n"
     ]
    }
   ],
   "source": [
    "df_sample[\"ml_sentiment_label\"] = df_sample[\"ml_sentiment\"].map({1: \"POSITIVE\", 0: \"NEGATIVE\"})\n",
    "output_columns = [\"listing_id\", \"id\", \"date\", \"reviewer_id\", \"reviewer_name\", \"comments\", \"ml_sentiment_score\", \"ml_sentiment_label\"]\n",
    "df_sample[output_columns].to_csv(\"classified_reviews_ml_1.csv\", index=False)\n",
    "\n",
    "print(\"\\nSaved classified reviews to 'classified_reviews_ml_1.csv'\")\n",
    "print(\"Sample of the output:\")\n",
    "print(df_sample[output_columns].head())"
   ]
  }
 ],
 "metadata": {
  "kernelspec": {
   "display_name": "venv",
   "language": "python",
   "name": "python3"
  },
  "language_info": {
   "codemirror_mode": {
    "name": "ipython",
    "version": 3
   },
   "file_extension": ".py",
   "mimetype": "text/x-python",
   "name": "python",
   "nbconvert_exporter": "python",
   "pygments_lexer": "ipython3",
   "version": "3.10.12"
  }
 },
 "nbformat": 4,
 "nbformat_minor": 5
}
